{
 "cells": [
  {
   "cell_type": "code",
   "execution_count": 46,
   "metadata": {},
   "outputs": [],
   "source": [
    "import pandas as pd\n",
    "import numpy as numpy\n",
    "from sklearn.feature_extraction.text import CountVectorizer\n",
    "from sklearn.metrics.pairwise import cosine_similarity\n"
   ]
  },
  {
   "cell_type": "code",
   "execution_count": 73,
   "metadata": {},
   "outputs": [],
   "source": [
    "###### helper functions. Use them when needed #######\n",
    "def get_title_from_index(index):\n",
    "\treturn df[df.index == index][\"title\"].values[0]\n",
    "\n",
    "def get_index_from_title(title):\n",
    "\treturn df[df.title == title][\"index\"].values[0]\n",
    "\n",
    "\n",
    "# tese are the step of the project\n",
    "##Step 1: Read CSV File\n",
    "\n",
    "##Step 2: Select Features\n",
    "\n",
    "##Step 3: Create a column in DF which combines all selected features\n",
    "\n",
    "##Step 4: Create count matrix from this new combined column\n",
    "\n",
    "##Step 5: Compute the Cosine Similarity based on the count_matrix\n",
    "\n",
    "movie_user_likes = \"Avatar\"\n",
    "\n",
    "## Step 6: Get index of this movie from its title\n",
    "\n",
    "## Step 7: Get a list of similar movies in descending order of similarity score\n",
    "\n",
    "\n",
    "## Step 8: Print titles of first 50 movies and go fire"
   ]
  },
  {
   "cell_type": "code",
   "execution_count": 74,
   "metadata": {},
   "outputs": [],
   "source": [
    "df = pd.read_csv('movie_dataset.csv')\n"
   ]
  },
  {
   "cell_type": "code",
   "execution_count": 75,
   "metadata": {},
   "outputs": [],
   "source": [
    "# now we will get some feature from this data\n",
    "features = ['keywords','genres','cast','director']"
   ]
  },
  {
   "cell_type": "code",
   "execution_count": 76,
   "metadata": {},
   "outputs": [],
   "source": [
    "# now we will combine all the columns together\n",
    "def combine_column(row):\n",
    "    return row['keywords'] +\" \"+ row['cast']+\" \"+row['genres']+\" \"+row['director']\n",
    "\n",
    "# get redoff all the None value \n",
    "for feature in features:\n",
    "    df[feature] = df[feature].fillna('')"
   ]
  },
  {
   "cell_type": "code",
   "execution_count": 77,
   "metadata": {},
   "outputs": [],
   "source": [
    "# now we want to aplly this function to all the data\n",
    "df['combied_features'] = df.apply(combine_column,axis=1)\n",
    "\n"
   ]
  },
  {
   "cell_type": "code",
   "execution_count": 78,
   "metadata": {},
   "outputs": [],
   "source": [
    "# now we will get the count matrix from that coulmn\n",
    "cv = CountVectorizer()\n",
    "count = cv.fit_transform(df['combied_features'])"
   ]
  },
  {
   "cell_type": "code",
   "execution_count": 79,
   "metadata": {},
   "outputs": [],
   "source": [
    "# now we will get the cosine similarty\n",
    "sim_score = cosine_similarity(count)\n"
   ]
  },
  {
   "cell_type": "code",
   "execution_count": 101,
   "metadata": {},
   "outputs": [
    {
     "name": "stdout",
     "output_type": "stream",
     "text": [
      "Avatar\n",
      "Guardians of the Galaxy\n",
      "Aliens\n"
     ]
    }
   ],
   "source": [
    " # now we will Get index of this movie from its title\n",
    " movie_index = get_index_from_title(movie_user_likes)\n",
    " \n",
    "#  after i get the index of this movie i want to find sim mocvies and we will make this row disending order\n",
    "simir_movies = list(enumerate(sim_score[movie_index]))\n",
    "# now we will sorte this tuble\n",
    "sorted_movies = sorted(simir_movies,key=lambda x : x[1],reverse=True)\n",
    "\n",
    "# now let's get the 50 most lilkly movies\n",
    "i = 0\n",
    "for movie in sorted_movies:\n",
    "    print (get_title_from_index(movie[0]))\n",
    "    i += 1\n",
    "    if i >= 3:\n",
    "        break\n"
   ]
  },
  {
   "cell_type": "code",
   "execution_count": 97,
   "metadata": {},
   "outputs": [
    {
     "name": "stdout",
     "output_type": "stream",
     "text": [
      "(3, 87)\n",
      "(2, 58)\n",
      "(1, 54)\n",
      "(4, 32)\n",
      "(0, 21)\n"
     ]
    }
   ],
   "source": [
    "ex = [21,54,58,87,32]\n",
    "tu = enumerate(ex)\n",
    "tu2 = sorted(tu,key=lambda x:x[1],reverse=True)\n",
    "for i in tu2:\n",
    "    print(i)"
   ]
  }
 ],
 "metadata": {
  "kernelspec": {
   "display_name": "Python 3",
   "language": "python",
   "name": "python3"
  },
  "language_info": {
   "codemirror_mode": {
    "name": "ipython",
    "version": 3
   },
   "file_extension": ".py",
   "mimetype": "text/x-python",
   "name": "python",
   "nbconvert_exporter": "python",
   "pygments_lexer": "ipython3",
   "version": "3.8.1-final"
  }
 },
 "nbformat": 4,
 "nbformat_minor": 2
}
